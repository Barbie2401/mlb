{
 "cells": [
  {
   "cell_type": "markdown",
   "metadata": {},
   "source": [
    "# Procesamiento de Lenguaje Natural"
   ]
  },
  {
   "cell_type": "markdown",
   "metadata": {},
   "source": [
    "El procesamiento de lenguaje natural es el área que analiza las interacciones entre sistemas computacionales y los lenguajes humanos. Se utilizan fuertemente métodos de aprendizaje de máquinas para solucionar los problemas."
   ]
  },
  {
   "cell_type": "code",
   "execution_count": 39,
   "metadata": {},
   "outputs": [],
   "source": [
    "import pandas as pd\n",
    "import sklearn.feature_extraction\n",
    "import sklearn.model_selection\n",
    "import sklearn.naive_bayes\n",
    "import numpy as np\n",
    "import matplotlib.pyplot as plt"
   ]
  },
  {
   "cell_type": "code",
   "execution_count": 12,
   "metadata": {},
   "outputs": [],
   "source": [
    "# Generamos unos ejemplos de juguete para diagnósticos urgentes (1) y no-urgentes (0).\n",
    "\n",
    "urg_text = [\n",
    "    \"fractura de cadera con dolor\",\n",
    "    \"dolor de pie por fractura\",\n",
    "    \"pericoronaritis en 4.8 y 3.8 con dolor\",\n",
    "    \"fractura coronaria COMPLICADA en diente 1.1-2.1 con dolor\",\n",
    "    \"dolor fulgurante en diente 4.6 y dolor opresivo en diente 1.1\",\n",
    "    \"Fractura de húmero y peroné\",\n",
    "    \n",
    "    \"Hipertensión-arterial y enfermedad renal crónica\",\n",
    "    \"periodontitis crónica localizada en diente 4.4 y diente 3.1\",\n",
    "    \"Enfermedad pulmonar obstructiva crónica\",\n",
    "    \"amalgama desajustada y periodontitis crónica diente 3.5\",\n",
    "    \"presencia de abundante sarro en diente 6.3 con periodontitis crónica\",\n",
    "    \"diabetes Melitus y enfermedad renal crónica\"\n",
    "]\n",
    "urg_label = [\n",
    "    1,\n",
    "    1,\n",
    "    1,\n",
    "    1,\n",
    "    1,\n",
    "    1,\n",
    "    \n",
    "    0,\n",
    "    0,\n",
    "    0,\n",
    "    0,\n",
    "    0,\n",
    "    0\n",
    "]"
   ]
  },
  {
   "cell_type": "markdown",
   "metadata": {},
   "source": [
    "## Preprocesamiento"
   ]
  },
  {
   "cell_type": "code",
   "execution_count": 13,
   "metadata": {},
   "outputs": [],
   "source": [
    "def preprocessor(x):\n",
    "    \"\"\"\n",
    "    Esta función recibe un string y retorna un string procesado.\n",
    "    \"\"\"\n",
    "    normalized_x = x.lower()\n",
    "    return normalized_x"
   ]
  },
  {
   "cell_type": "markdown",
   "metadata": {},
   "source": [
    "La tokenización es el proceso de separar cadenas de caracteres en secciones más pequeñas, como palabras u oraciones."
   ]
  },
  {
   "cell_type": "code",
   "execution_count": 14,
   "metadata": {},
   "outputs": [],
   "source": [
    "def tokenizer(x):\n",
    "    \"\"\"\n",
    "    Esta función recibe un string y retorna una lista de tokens.\n",
    "    \"\"\"\n",
    "    tokenized_x = x.split(\" \")\n",
    "    return tokenized_x"
   ]
  },
  {
   "cell_type": "code",
   "execution_count": 15,
   "metadata": {},
   "outputs": [],
   "source": [
    "cv = sklearn.feature_extraction.text.CountVectorizer( # Con esta clase podemos crear un vectorizador \n",
    "                                                      # que convierte nuestros documentos en bolsas de palabras.\n",
    "    preprocessor=preprocessor, # Utilizamos nuestra función para preprocesar los string.\n",
    "    tokenizer=tokenizer # Utilzamos nuestra función para tokenizar los string.\n",
    ")\n",
    "features = cv.fit_transform(urg_text) # Entrenamos nuestro vectorizados y transformamos nuestros documentos en bolsas de palabras."
   ]
  },
  {
   "cell_type": "markdown",
   "metadata": {},
   "source": [
    "El vocabulario son todas las palabras distintas presentes en nuestra colección de documentos (corpus)."
   ]
  },
  {
   "cell_type": "code",
   "execution_count": 16,
   "metadata": {},
   "outputs": [
    {
     "data": {
      "text/plain": [
       "{'fractura': 23,\n",
       " 'de': 16,\n",
       " 'cadera': 11,\n",
       " 'con': 13,\n",
       " 'dolor': 20,\n",
       " 'pie': 34,\n",
       " 'por': 35,\n",
       " 'pericoronaritis': 31,\n",
       " 'en': 21,\n",
       " '4.8': 7,\n",
       " 'y': 40,\n",
       " '3.8': 4,\n",
       " 'coronaria': 14,\n",
       " 'complicada': 12,\n",
       " 'diente': 19,\n",
       " '1.1-2.1': 1,\n",
       " 'fulgurante': 24,\n",
       " '4.6': 6,\n",
       " 'opresivo': 30,\n",
       " '1.1': 0,\n",
       " 'húmero': 26,\n",
       " 'peroné': 33,\n",
       " 'hipertensión-arterial': 25,\n",
       " 'enfermedad': 22,\n",
       " 'renal': 38,\n",
       " 'crónica': 15,\n",
       " 'periodontitis': 32,\n",
       " 'localizada': 27,\n",
       " '4.4': 5,\n",
       " '3.1': 2,\n",
       " 'pulmonar': 37,\n",
       " 'obstructiva': 29,\n",
       " 'amalgama': 10,\n",
       " 'desajustada': 17,\n",
       " '3.5': 3,\n",
       " 'presencia': 36,\n",
       " 'abundante': 9,\n",
       " 'sarro': 39,\n",
       " '6.3': 8,\n",
       " 'diabetes': 18,\n",
       " 'melitus': 28}"
      ]
     },
     "execution_count": 16,
     "metadata": {},
     "output_type": "execute_result"
    }
   ],
   "source": [
    "cv.vocabulary_ # Este es el vocabulario de nuestroc corpus."
   ]
  },
  {
   "cell_type": "markdown",
   "metadata": {},
   "source": [
    "### Actividad 1\n",
    "Las stopwords son palabras que no aportan semántica a las oraciones y es una práctica habitual eliminarlas del corpus. Además, normalmente se eliminan de los corpora los signos de puntuación para disminuir el tamaño del vocabulario.\n",
    "\n",
    "**Programa la función preprocessor() para que elimine stopwords y caracteres no alfabéticos.**"
   ]
  },
  {
   "cell_type": "code",
   "execution_count": 17,
   "metadata": {},
   "outputs": [
    {
     "data": {
      "text/plain": [
       "(12, 41)"
      ]
     },
     "execution_count": 17,
     "metadata": {},
     "output_type": "execute_result"
    }
   ],
   "source": [
    "features.shape # El tamaño de nuestra matriz de bolsas de palabras es (<número de documentos>, <tamaño del vocabulario>)"
   ]
  },
  {
   "cell_type": "code",
   "execution_count": 18,
   "metadata": {},
   "outputs": [],
   "source": [
    "# Convertimos nuestra matriz de bolsas de palabras a pd.DataFrame\n",
    "data = pd.DataFrame(\n",
    "    features.todense(),\n",
    "    columns=sorted(cv.vocabulary_)\n",
    ")\n",
    "data[\"label\"] = urg_label\n",
    "data[\"text\"] = urg_text"
   ]
  },
  {
   "cell_type": "code",
   "execution_count": 19,
   "metadata": {},
   "outputs": [
    {
     "data": {
      "text/html": [
       "<div>\n",
       "<style scoped>\n",
       "    .dataframe tbody tr th:only-of-type {\n",
       "        vertical-align: middle;\n",
       "    }\n",
       "\n",
       "    .dataframe tbody tr th {\n",
       "        vertical-align: top;\n",
       "    }\n",
       "\n",
       "    .dataframe thead th {\n",
       "        text-align: right;\n",
       "    }\n",
       "</style>\n",
       "<table border=\"1\" class=\"dataframe\">\n",
       "  <thead>\n",
       "    <tr style=\"text-align: right;\">\n",
       "      <th></th>\n",
       "      <th>1.1</th>\n",
       "      <th>1.1-2.1</th>\n",
       "      <th>3.1</th>\n",
       "      <th>3.5</th>\n",
       "      <th>3.8</th>\n",
       "      <th>4.4</th>\n",
       "      <th>4.6</th>\n",
       "      <th>4.8</th>\n",
       "      <th>6.3</th>\n",
       "      <th>abundante</th>\n",
       "      <th>...</th>\n",
       "      <th>peroné</th>\n",
       "      <th>pie</th>\n",
       "      <th>por</th>\n",
       "      <th>presencia</th>\n",
       "      <th>pulmonar</th>\n",
       "      <th>renal</th>\n",
       "      <th>sarro</th>\n",
       "      <th>y</th>\n",
       "      <th>label</th>\n",
       "      <th>text</th>\n",
       "    </tr>\n",
       "  </thead>\n",
       "  <tbody>\n",
       "    <tr>\n",
       "      <th>0</th>\n",
       "      <td>0</td>\n",
       "      <td>0</td>\n",
       "      <td>0</td>\n",
       "      <td>0</td>\n",
       "      <td>0</td>\n",
       "      <td>0</td>\n",
       "      <td>0</td>\n",
       "      <td>0</td>\n",
       "      <td>0</td>\n",
       "      <td>0</td>\n",
       "      <td>...</td>\n",
       "      <td>0</td>\n",
       "      <td>0</td>\n",
       "      <td>0</td>\n",
       "      <td>0</td>\n",
       "      <td>0</td>\n",
       "      <td>0</td>\n",
       "      <td>0</td>\n",
       "      <td>0</td>\n",
       "      <td>1</td>\n",
       "      <td>fractura de cadera con dolor</td>\n",
       "    </tr>\n",
       "    <tr>\n",
       "      <th>1</th>\n",
       "      <td>0</td>\n",
       "      <td>0</td>\n",
       "      <td>0</td>\n",
       "      <td>0</td>\n",
       "      <td>0</td>\n",
       "      <td>0</td>\n",
       "      <td>0</td>\n",
       "      <td>0</td>\n",
       "      <td>0</td>\n",
       "      <td>0</td>\n",
       "      <td>...</td>\n",
       "      <td>0</td>\n",
       "      <td>1</td>\n",
       "      <td>1</td>\n",
       "      <td>0</td>\n",
       "      <td>0</td>\n",
       "      <td>0</td>\n",
       "      <td>0</td>\n",
       "      <td>0</td>\n",
       "      <td>1</td>\n",
       "      <td>dolor de pie por fractura</td>\n",
       "    </tr>\n",
       "    <tr>\n",
       "      <th>2</th>\n",
       "      <td>0</td>\n",
       "      <td>0</td>\n",
       "      <td>0</td>\n",
       "      <td>0</td>\n",
       "      <td>1</td>\n",
       "      <td>0</td>\n",
       "      <td>0</td>\n",
       "      <td>1</td>\n",
       "      <td>0</td>\n",
       "      <td>0</td>\n",
       "      <td>...</td>\n",
       "      <td>0</td>\n",
       "      <td>0</td>\n",
       "      <td>0</td>\n",
       "      <td>0</td>\n",
       "      <td>0</td>\n",
       "      <td>0</td>\n",
       "      <td>0</td>\n",
       "      <td>1</td>\n",
       "      <td>1</td>\n",
       "      <td>pericoronaritis en 4.8 y 3.8 con dolor</td>\n",
       "    </tr>\n",
       "    <tr>\n",
       "      <th>3</th>\n",
       "      <td>0</td>\n",
       "      <td>1</td>\n",
       "      <td>0</td>\n",
       "      <td>0</td>\n",
       "      <td>0</td>\n",
       "      <td>0</td>\n",
       "      <td>0</td>\n",
       "      <td>0</td>\n",
       "      <td>0</td>\n",
       "      <td>0</td>\n",
       "      <td>...</td>\n",
       "      <td>0</td>\n",
       "      <td>0</td>\n",
       "      <td>0</td>\n",
       "      <td>0</td>\n",
       "      <td>0</td>\n",
       "      <td>0</td>\n",
       "      <td>0</td>\n",
       "      <td>0</td>\n",
       "      <td>1</td>\n",
       "      <td>fractura coronaria COMPLICADA en diente 1.1-2....</td>\n",
       "    </tr>\n",
       "    <tr>\n",
       "      <th>4</th>\n",
       "      <td>1</td>\n",
       "      <td>0</td>\n",
       "      <td>0</td>\n",
       "      <td>0</td>\n",
       "      <td>0</td>\n",
       "      <td>0</td>\n",
       "      <td>1</td>\n",
       "      <td>0</td>\n",
       "      <td>0</td>\n",
       "      <td>0</td>\n",
       "      <td>...</td>\n",
       "      <td>0</td>\n",
       "      <td>0</td>\n",
       "      <td>0</td>\n",
       "      <td>0</td>\n",
       "      <td>0</td>\n",
       "      <td>0</td>\n",
       "      <td>0</td>\n",
       "      <td>1</td>\n",
       "      <td>1</td>\n",
       "      <td>dolor fulgurante en diente 4.6 y dolor opresiv...</td>\n",
       "    </tr>\n",
       "    <tr>\n",
       "      <th>5</th>\n",
       "      <td>0</td>\n",
       "      <td>0</td>\n",
       "      <td>0</td>\n",
       "      <td>0</td>\n",
       "      <td>0</td>\n",
       "      <td>0</td>\n",
       "      <td>0</td>\n",
       "      <td>0</td>\n",
       "      <td>0</td>\n",
       "      <td>0</td>\n",
       "      <td>...</td>\n",
       "      <td>1</td>\n",
       "      <td>0</td>\n",
       "      <td>0</td>\n",
       "      <td>0</td>\n",
       "      <td>0</td>\n",
       "      <td>0</td>\n",
       "      <td>0</td>\n",
       "      <td>1</td>\n",
       "      <td>1</td>\n",
       "      <td>Fractura de húmero y peroné</td>\n",
       "    </tr>\n",
       "    <tr>\n",
       "      <th>6</th>\n",
       "      <td>0</td>\n",
       "      <td>0</td>\n",
       "      <td>0</td>\n",
       "      <td>0</td>\n",
       "      <td>0</td>\n",
       "      <td>0</td>\n",
       "      <td>0</td>\n",
       "      <td>0</td>\n",
       "      <td>0</td>\n",
       "      <td>0</td>\n",
       "      <td>...</td>\n",
       "      <td>0</td>\n",
       "      <td>0</td>\n",
       "      <td>0</td>\n",
       "      <td>0</td>\n",
       "      <td>0</td>\n",
       "      <td>1</td>\n",
       "      <td>0</td>\n",
       "      <td>1</td>\n",
       "      <td>0</td>\n",
       "      <td>Hipertensión-arterial y enfermedad renal crónica</td>\n",
       "    </tr>\n",
       "    <tr>\n",
       "      <th>7</th>\n",
       "      <td>0</td>\n",
       "      <td>0</td>\n",
       "      <td>1</td>\n",
       "      <td>0</td>\n",
       "      <td>0</td>\n",
       "      <td>1</td>\n",
       "      <td>0</td>\n",
       "      <td>0</td>\n",
       "      <td>0</td>\n",
       "      <td>0</td>\n",
       "      <td>...</td>\n",
       "      <td>0</td>\n",
       "      <td>0</td>\n",
       "      <td>0</td>\n",
       "      <td>0</td>\n",
       "      <td>0</td>\n",
       "      <td>0</td>\n",
       "      <td>0</td>\n",
       "      <td>1</td>\n",
       "      <td>0</td>\n",
       "      <td>periodontitis crónica localizada en diente 4.4...</td>\n",
       "    </tr>\n",
       "    <tr>\n",
       "      <th>8</th>\n",
       "      <td>0</td>\n",
       "      <td>0</td>\n",
       "      <td>0</td>\n",
       "      <td>0</td>\n",
       "      <td>0</td>\n",
       "      <td>0</td>\n",
       "      <td>0</td>\n",
       "      <td>0</td>\n",
       "      <td>0</td>\n",
       "      <td>0</td>\n",
       "      <td>...</td>\n",
       "      <td>0</td>\n",
       "      <td>0</td>\n",
       "      <td>0</td>\n",
       "      <td>0</td>\n",
       "      <td>1</td>\n",
       "      <td>0</td>\n",
       "      <td>0</td>\n",
       "      <td>0</td>\n",
       "      <td>0</td>\n",
       "      <td>Enfermedad pulmonar obstructiva crónica</td>\n",
       "    </tr>\n",
       "    <tr>\n",
       "      <th>9</th>\n",
       "      <td>0</td>\n",
       "      <td>0</td>\n",
       "      <td>0</td>\n",
       "      <td>1</td>\n",
       "      <td>0</td>\n",
       "      <td>0</td>\n",
       "      <td>0</td>\n",
       "      <td>0</td>\n",
       "      <td>0</td>\n",
       "      <td>0</td>\n",
       "      <td>...</td>\n",
       "      <td>0</td>\n",
       "      <td>0</td>\n",
       "      <td>0</td>\n",
       "      <td>0</td>\n",
       "      <td>0</td>\n",
       "      <td>0</td>\n",
       "      <td>0</td>\n",
       "      <td>1</td>\n",
       "      <td>0</td>\n",
       "      <td>amalgama desajustada y periodontitis crónica d...</td>\n",
       "    </tr>\n",
       "    <tr>\n",
       "      <th>10</th>\n",
       "      <td>0</td>\n",
       "      <td>0</td>\n",
       "      <td>0</td>\n",
       "      <td>0</td>\n",
       "      <td>0</td>\n",
       "      <td>0</td>\n",
       "      <td>0</td>\n",
       "      <td>0</td>\n",
       "      <td>1</td>\n",
       "      <td>1</td>\n",
       "      <td>...</td>\n",
       "      <td>0</td>\n",
       "      <td>0</td>\n",
       "      <td>0</td>\n",
       "      <td>1</td>\n",
       "      <td>0</td>\n",
       "      <td>0</td>\n",
       "      <td>1</td>\n",
       "      <td>0</td>\n",
       "      <td>0</td>\n",
       "      <td>presencia de abundante sarro en diente 6.3 con...</td>\n",
       "    </tr>\n",
       "    <tr>\n",
       "      <th>11</th>\n",
       "      <td>0</td>\n",
       "      <td>0</td>\n",
       "      <td>0</td>\n",
       "      <td>0</td>\n",
       "      <td>0</td>\n",
       "      <td>0</td>\n",
       "      <td>0</td>\n",
       "      <td>0</td>\n",
       "      <td>0</td>\n",
       "      <td>0</td>\n",
       "      <td>...</td>\n",
       "      <td>0</td>\n",
       "      <td>0</td>\n",
       "      <td>0</td>\n",
       "      <td>0</td>\n",
       "      <td>0</td>\n",
       "      <td>1</td>\n",
       "      <td>0</td>\n",
       "      <td>1</td>\n",
       "      <td>0</td>\n",
       "      <td>diabetes Melitus y enfermedad renal crónica</td>\n",
       "    </tr>\n",
       "  </tbody>\n",
       "</table>\n",
       "<p>12 rows × 43 columns</p>\n",
       "</div>"
      ],
      "text/plain": [
       "    1.1  1.1-2.1  3.1  3.5  3.8  4.4  4.6  4.8  6.3  abundante  \\\n",
       "0     0        0    0    0    0    0    0    0    0          0   \n",
       "1     0        0    0    0    0    0    0    0    0          0   \n",
       "2     0        0    0    0    1    0    0    1    0          0   \n",
       "3     0        1    0    0    0    0    0    0    0          0   \n",
       "4     1        0    0    0    0    0    1    0    0          0   \n",
       "5     0        0    0    0    0    0    0    0    0          0   \n",
       "6     0        0    0    0    0    0    0    0    0          0   \n",
       "7     0        0    1    0    0    1    0    0    0          0   \n",
       "8     0        0    0    0    0    0    0    0    0          0   \n",
       "9     0        0    0    1    0    0    0    0    0          0   \n",
       "10    0        0    0    0    0    0    0    0    1          1   \n",
       "11    0        0    0    0    0    0    0    0    0          0   \n",
       "\n",
       "                          ...                          peroné  pie  por  \\\n",
       "0                         ...                               0    0    0   \n",
       "1                         ...                               0    1    1   \n",
       "2                         ...                               0    0    0   \n",
       "3                         ...                               0    0    0   \n",
       "4                         ...                               0    0    0   \n",
       "5                         ...                               1    0    0   \n",
       "6                         ...                               0    0    0   \n",
       "7                         ...                               0    0    0   \n",
       "8                         ...                               0    0    0   \n",
       "9                         ...                               0    0    0   \n",
       "10                        ...                               0    0    0   \n",
       "11                        ...                               0    0    0   \n",
       "\n",
       "    presencia  pulmonar  renal  sarro  y  label  \\\n",
       "0           0         0      0      0  0      1   \n",
       "1           0         0      0      0  0      1   \n",
       "2           0         0      0      0  1      1   \n",
       "3           0         0      0      0  0      1   \n",
       "4           0         0      0      0  1      1   \n",
       "5           0         0      0      0  1      1   \n",
       "6           0         0      1      0  1      0   \n",
       "7           0         0      0      0  1      0   \n",
       "8           0         1      0      0  0      0   \n",
       "9           0         0      0      0  1      0   \n",
       "10          1         0      0      1  0      0   \n",
       "11          0         0      1      0  1      0   \n",
       "\n",
       "                                                 text  \n",
       "0                        fractura de cadera con dolor  \n",
       "1                           dolor de pie por fractura  \n",
       "2              pericoronaritis en 4.8 y 3.8 con dolor  \n",
       "3   fractura coronaria COMPLICADA en diente 1.1-2....  \n",
       "4   dolor fulgurante en diente 4.6 y dolor opresiv...  \n",
       "5                         Fractura de húmero y peroné  \n",
       "6    Hipertensión-arterial y enfermedad renal crónica  \n",
       "7   periodontitis crónica localizada en diente 4.4...  \n",
       "8             Enfermedad pulmonar obstructiva crónica  \n",
       "9   amalgama desajustada y periodontitis crónica d...  \n",
       "10  presencia de abundante sarro en diente 6.3 con...  \n",
       "11        diabetes Melitus y enfermedad renal crónica  \n",
       "\n",
       "[12 rows x 43 columns]"
      ]
     },
     "execution_count": 19,
     "metadata": {},
     "output_type": "execute_result"
    }
   ],
   "source": [
    "data"
   ]
  },
  {
   "cell_type": "markdown",
   "metadata": {},
   "source": [
    "Tener una representación vectorial nos permite realizar el entrenamiento de modelos de aprendizaje de máquinas, como también tener una representación geométrica de nuestros documentos. Veamos cómo se comportan nuestros documentos al graficarlos sobre 2 componentes (palabras)."
   ]
  },
  {
   "cell_type": "code",
   "execution_count": 25,
   "metadata": {},
   "outputs": [
    {
     "data": {
      "text/plain": [
       "<matplotlib.legend.Legend at 0x163f26a2898>"
      ]
     },
     "execution_count": 25,
     "metadata": {},
     "output_type": "execute_result"
    },
    {
     "data": {
      "image/png": "[encoded data removed]",
      "text/plain": [
       "<Figure size 432x288 with 1 Axes>"
      ]
     },
     "metadata": {
      "needs_background": "light"
     },
     "output_type": "display_data"
    }
   ],
   "source": [
    "# Seleccionamos para graficar las palabras \"dolor\" y \"crónica\" para graficar nuestros documentos.\n",
    "\n",
    "plt.scatter(\n",
    "    data[data[\"label\"] == 0][\"diente\"],\n",
    "    data[data[\"label\"] == 0][\"pie\"],\n",
    "    label=\"No Urgencia\",\n",
    "    alpha=0.3\n",
    ")\n",
    "plt.scatter(\n",
    "    data[data[\"label\"] == 1][\"diente\"],\n",
    "    data[data[\"label\"] == 1][\"pie\"],\n",
    "    label=\"Urgencia\",\n",
    "    alpha=0.3\n",
    ")\n",
    "plt.xlabel(\"dolor\")\n",
    "plt.ylabel(\"crónica\")\n",
    "plt.legend()"
   ]
  },
  {
   "cell_type": "markdown",
   "metadata": {},
   "source": [
    "### Actividad 2\n",
    "Al contrario de las stopwords, existen palabras que nos aportan más información en nuestro corpus.\n",
    "\n",
    "**Al graficar, ¿qué palabras producen una mayor separación entre clases?**"
   ]
  },
  {
   "cell_type": "markdown",
   "metadata": {},
   "source": [
    "Respuesta:\n"
   ]
  },
  {
   "cell_type": "markdown",
   "metadata": {},
   "source": [
    "### Actividad 3\n",
    "La bolsa de palabras no es el único método para realizar una vectorización de documentos.\n",
    "\n",
    "**Implementa otro método de vectorización**"
   ]
  },
  {
   "cell_type": "code",
   "execution_count": 29,
   "metadata": {},
   "outputs": [],
   "source": [
    "# TODO: Vectorización de documentos utilizando un método distinto al de bolsa de palabras.\n",
    "# HINT:\n",
    "t = sklearn.feature_extraction.text.TfidfVectorizer()"
   ]
  },
  {
   "cell_type": "markdown",
   "metadata": {},
   "source": [
    "## Modelamiento"
   ]
  },
  {
   "cell_type": "code",
   "execution_count": 26,
   "metadata": {},
   "outputs": [
    {
     "data": {
      "text/plain": [
       "MultinomialNB(alpha=1.0, class_prior=None, fit_prior=True)"
      ]
     },
     "execution_count": 26,
     "metadata": {},
     "output_type": "execute_result"
    }
   ],
   "source": [
    "nb = sklearn.naive_bayes.MultinomialNB() # Instanciamos un algoritmo de Naïve Bayes.\n",
    "nb.fit( # Entrenamos un modelo de Naïve Bayes.\n",
    "    features,\n",
    "    urg_label\n",
    ")"
   ]
  },
  {
   "cell_type": "markdown",
   "metadata": {},
   "source": [
    "Al entrenar un modelo de Naïve Bayes podemos obtener las palabras que mayor aportan a la decisión de clasificación, estas son las 10 con mayor aporte."
   ]
  },
  {
   "cell_type": "code",
   "execution_count": 27,
   "metadata": {},
   "outputs": [
    {
     "data": {
      "text/html": [
       "<div>\n",
       "<style scoped>\n",
       "    .dataframe tbody tr th:only-of-type {\n",
       "        vertical-align: middle;\n",
       "    }\n",
       "\n",
       "    .dataframe tbody tr th {\n",
       "        vertical-align: top;\n",
       "    }\n",
       "\n",
       "    .dataframe thead th {\n",
       "        text-align: right;\n",
       "    }\n",
       "</style>\n",
       "<table border=\"1\" class=\"dataframe\">\n",
       "  <thead>\n",
       "    <tr style=\"text-align: right;\">\n",
       "      <th></th>\n",
       "      <th>0</th>\n",
       "      <th>1</th>\n",
       "    </tr>\n",
       "  </thead>\n",
       "  <tbody>\n",
       "    <tr>\n",
       "      <th>20</th>\n",
       "      <td>dolor</td>\n",
       "      <td>-2.460809</td>\n",
       "    </tr>\n",
       "    <tr>\n",
       "      <th>23</th>\n",
       "      <td>fractura</td>\n",
       "      <td>-2.797281</td>\n",
       "    </tr>\n",
       "    <tr>\n",
       "      <th>21</th>\n",
       "      <td>en</td>\n",
       "      <td>-2.797281</td>\n",
       "    </tr>\n",
       "    <tr>\n",
       "      <th>13</th>\n",
       "      <td>con</td>\n",
       "      <td>-3.020425</td>\n",
       "    </tr>\n",
       "    <tr>\n",
       "      <th>19</th>\n",
       "      <td>diente</td>\n",
       "      <td>-3.020425</td>\n",
       "    </tr>\n",
       "    <tr>\n",
       "      <th>16</th>\n",
       "      <td>de</td>\n",
       "      <td>-3.020425</td>\n",
       "    </tr>\n",
       "    <tr>\n",
       "      <th>40</th>\n",
       "      <td>y</td>\n",
       "      <td>-3.020425</td>\n",
       "    </tr>\n",
       "    <tr>\n",
       "      <th>7</th>\n",
       "      <td>4.8</td>\n",
       "      <td>-3.713572</td>\n",
       "    </tr>\n",
       "    <tr>\n",
       "      <th>4</th>\n",
       "      <td>3.8</td>\n",
       "      <td>-3.713572</td>\n",
       "    </tr>\n",
       "    <tr>\n",
       "      <th>35</th>\n",
       "      <td>por</td>\n",
       "      <td>-3.713572</td>\n",
       "    </tr>\n",
       "  </tbody>\n",
       "</table>\n",
       "</div>"
      ],
      "text/plain": [
       "           0         1\n",
       "20     dolor -2.460809\n",
       "23  fractura -2.797281\n",
       "21        en -2.797281\n",
       "13       con -3.020425\n",
       "19    diente -3.020425\n",
       "16        de -3.020425\n",
       "40         y -3.020425\n",
       "7        4.8 -3.713572\n",
       "4        3.8 -3.713572\n",
       "35       por -3.713572"
      ]
     },
     "execution_count": 27,
     "metadata": {},
     "output_type": "execute_result"
    }
   ],
   "source": [
    "pd.DataFrame(list(zip(sorted(cv.vocabulary_),nb.coef_[0]))).sort_values(1,ascending=False).head(10)"
   ]
  },
  {
   "cell_type": "markdown",
   "metadata": {},
   "source": [
    "### Actividad 3\n",
    "Naïve Bayes no es el único algoritmo para entrenar un modelo de clasificación.\n",
    "\n",
    "**Entrena otro modelo de clasificación**"
   ]
  },
  {
   "cell_type": "code",
   "execution_count": 30,
   "metadata": {},
   "outputs": [],
   "source": [
    "# TODO: Entrenar un modelo de clasificación utilizando un algoritmo distinto a Naïve Bayes\n"
   ]
  },
  {
   "cell_type": "markdown",
   "metadata": {},
   "source": [
    "## Clasificación de Especialidades"
   ]
  },
  {
   "cell_type": "markdown",
   "metadata": {},
   "source": [
    "Importamos un conjunto de datos de texto libre que contiene una serie de diagnósticos y a la especialidad a la que está asociado."
   ]
  },
  {
   "cell_type": "code",
   "execution_count": 36,
   "metadata": {
    "scrolled": true
   },
   "outputs": [],
   "source": [
    "diagnostics = pd.read_csv(\"data/diagnostics.csv\")"
   ]
  },
  {
   "cell_type": "code",
   "execution_count": 37,
   "metadata": {},
   "outputs": [
    {
     "data": {
      "text/html": [
       "<div>\n",
       "<style scoped>\n",
       "    .dataframe tbody tr th:only-of-type {\n",
       "        vertical-align: middle;\n",
       "    }\n",
       "\n",
       "    .dataframe tbody tr th {\n",
       "        vertical-align: top;\n",
       "    }\n",
       "\n",
       "    .dataframe thead th {\n",
       "        text-align: right;\n",
       "    }\n",
       "</style>\n",
       "<table border=\"1\" class=\"dataframe\">\n",
       "  <thead>\n",
       "    <tr style=\"text-align: right;\">\n",
       "      <th></th>\n",
       "      <th>diagnostic</th>\n",
       "      <th>specialty</th>\n",
       "    </tr>\n",
       "  </thead>\n",
       "  <tbody>\n",
       "    <tr>\n",
       "      <th>8084</th>\n",
       "      <td>Observacion por sospecha de enfermedad o afecc...</td>\n",
       "      <td>TRAUMATOLOGIA</td>\n",
       "    </tr>\n",
       "    <tr>\n",
       "      <th>22751</th>\n",
       "      <td>Catarata, no especificada</td>\n",
       "      <td>OFTALMOLOGIA</td>\n",
       "    </tr>\n",
       "    <tr>\n",
       "      <th>38041</th>\n",
       "      <td>Presbicia</td>\n",
       "      <td>OFTALMOLOGIA</td>\n",
       "    </tr>\n",
       "    <tr>\n",
       "      <th>21448</th>\n",
       "      <td>Observacion y evaluacion medica por sospecha d...</td>\n",
       "      <td>TRAUMATOLOGIA</td>\n",
       "    </tr>\n",
       "    <tr>\n",
       "      <th>33724</th>\n",
       "      <td>Consulta no Especificada</td>\n",
       "      <td>OFTALMOLOGIA</td>\n",
       "    </tr>\n",
       "  </tbody>\n",
       "</table>\n",
       "</div>"
      ],
      "text/plain": [
       "                                              diagnostic      specialty\n",
       "8084   Observacion por sospecha de enfermedad o afecc...  TRAUMATOLOGIA\n",
       "22751                          Catarata, no especificada   OFTALMOLOGIA\n",
       "38041                                          Presbicia   OFTALMOLOGIA\n",
       "21448  Observacion y evaluacion medica por sospecha d...  TRAUMATOLOGIA\n",
       "33724                           Consulta no Especificada   OFTALMOLOGIA"
      ]
     },
     "execution_count": 37,
     "metadata": {},
     "output_type": "execute_result"
    }
   ],
   "source": [
    "diagnostics.sample(5)"
   ]
  },
  {
   "cell_type": "markdown",
   "metadata": {},
   "source": [
    "### Actividad 4\n",
    "\n",
    "**Preprocesa los datos y entrena un modelo que clasifique el diagnóstico en una de las especialidades, además cr.**"
   ]
  },
  {
   "cell_type": "code",
   "execution_count": 42,
   "metadata": {},
   "outputs": [],
   "source": [
    "tfidf = sklearn.feature_extraction.text.TfidfVectorizer()\n",
    "diagnostics_vectorized = tfidf.fit_transform(diagnostics.diagnostic)"
   ]
  },
  {
   "cell_type": "code",
   "execution_count": 43,
   "metadata": {},
   "outputs": [],
   "source": [
    "diagnostics_train, diagnostics_test, specialties_train, specialties_test = sklearn.model_selection.train_test_split(\n",
    "    diagnostics_vectorized,\n",
    "    diagnostics.specialty,\n",
    "    test_size=0.33,\n",
    "    random_state=11\n",
    ")"
   ]
  },
  {
   "cell_type": "code",
   "execution_count": 45,
   "metadata": {},
   "outputs": [
    {
     "data": {
      "text/plain": [
       "MultinomialNB(alpha=1.0, class_prior=None, fit_prior=True)"
      ]
     },
     "execution_count": 45,
     "metadata": {},
     "output_type": "execute_result"
    }
   ],
   "source": [
    "nb = sklearn.naive_bayes.MultinomialNB()\n",
    "nb.fit(\n",
    "    diagnostics_train,\n",
    "    specialties_train\n",
    ")"
   ]
  },
  {
   "cell_type": "code",
   "execution_count": 47,
   "metadata": {},
   "outputs": [
    {
     "name": "stdout",
     "output_type": "stream",
     "text": [
      "               precision    recall  f1-score   support\n",
      "\n",
      " OFTALMOLOGIA       0.79      0.96      0.87      5752\n",
      "TRAUMATOLOGIA       0.97      0.82      0.89      8427\n",
      "\n",
      "     accuracy                           0.88     14179\n",
      "    macro avg       0.88      0.89      0.88     14179\n",
      " weighted avg       0.90      0.88      0.88     14179\n",
      "\n"
     ]
    }
   ],
   "source": [
    "predictions = nb.predict(diagnostics_test)\n",
    "print(sklearn.metrics.classification_report(predictions, specialties_test))"
   ]
  },
  {
   "cell_type": "code",
   "execution_count": null,
   "metadata": {},
   "outputs": [],
   "source": []
  }
 ],
 "metadata": {
  "kernelspec": {
   "display_name": "Python 3",
   "language": "python",
   "name": "python3"
  },
  "language_info": {
   "codemirror_mode": {
    "name": "ipython",
    "version": 3
   },
   "file_extension": ".py",
   "mimetype": "text/x-python",
   "name": "python",
   "nbconvert_exporter": "python",
   "pygments_lexer": "ipython3",
   "version": "3.6.7"
  }
 },
 "nbformat": 4,
 "nbformat_minor": 2
}
